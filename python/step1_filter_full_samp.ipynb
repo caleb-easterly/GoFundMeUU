{
 "cells": [
  {
   "attachments": {},
   "cell_type": "markdown",
   "metadata": {},
   "source": [
    "# Step 1: Filter the Full Sample To US Medical Campaigns\n",
    "Author: Caleb Easterly"
   ]
  },
  {
   "cell_type": "code",
   "execution_count": 1,
   "metadata": {},
   "outputs": [],
   "source": [
    "import os\n",
    "import pandas as pd\n",
    "import numpy as np\n",
    "import csv\n",
    "\n",
    "# change directory\n",
    "os.chdir(\"C:\\\\Users\\\\caleb\\\\OneDrive - University of North Carolina at Chapel Hill\\\\Documents\\\\Projects\\\\Cancer care crowdfunding\")"
   ]
  },
  {
   "cell_type": "code",
   "execution_count": 2,
   "metadata": {},
   "outputs": [
    {
     "name": "stdout",
     "output_type": "stream",
     "text": [
      "2212591\n"
     ]
    }
   ],
   "source": [
    "# read in scraped file\n",
    "df = pd.read_csv(\"results_11.12.22\\\\walk_soft\\\\scraped.csv\", encoding=\"utf-8\", low_memory=False, lineterminator='\\n')\n",
    "nrow_orig = df.shape[0]\n",
    "print(nrow_orig)"
   ]
  },
  {
   "attachments": {},
   "cell_type": "markdown",
   "metadata": {},
   "source": [
    "## Duplicates"
   ]
  },
  {
   "cell_type": "code",
   "execution_count": 3,
   "metadata": {},
   "outputs": [
    {
     "name": "stdout",
     "output_type": "stream",
     "text": [
      "2208418\n",
      "2208418\n"
     ]
    }
   ],
   "source": [
    "df.drop_duplicates(subset=[\"URL\"], keep='first', inplace=True)\n",
    "nrow_dedup = df.shape[0]\n",
    "print(nrow_dedup)\n",
    "\n",
    "## write out full, non-dup file\n",
    "df.to_csv(\"GoFundMeUU/data/scraped_dedup.csv\", line_terminator='\\n', index=False, encoding='utf-8', quoting=csv.QUOTE_ALL)\n",
    "\n",
    "## compare to urls after dropping duplicates\n",
    "urls = pd.read_csv(\"GoFundMeUU/data/urls.txt\", sep=\",\", encoding='latin-1', header=None, names=['URL'])\n",
    "urls.drop_duplicates(keep='first', inplace=True)\n",
    "print(urls.shape[0])"
   ]
  },
  {
   "attachments": {},
   "cell_type": "markdown",
   "metadata": {},
   "source": [
    "## Failed Scrape"
   ]
  },
  {
   "cell_type": "code",
   "execution_count": 4,
   "metadata": {},
   "outputs": [
    {
     "name": "stdout",
     "output_type": "stream",
     "text": [
      "2208418\n"
     ]
    }
   ],
   "source": [
    "df = df.query('Title!=\"\"')\n",
    "nrow_success = df.shape[0]\n",
    "print(nrow_success)"
   ]
  },
  {
   "attachments": {},
   "cell_type": "markdown",
   "metadata": {},
   "source": [
    "## Active Campaigns"
   ]
  },
  {
   "cell_type": "code",
   "execution_count": 5,
   "metadata": {},
   "outputs": [
    {
     "name": "stdout",
     "output_type": "stream",
     "text": [
      "2067040\n"
     ]
    }
   ],
   "source": [
    "df = df.query('Status==\"active\"')\n",
    "nrow_active = df.shape[0]\n",
    "print(nrow_active)"
   ]
  },
  {
   "attachments": {},
   "cell_type": "markdown",
   "metadata": {},
   "source": [
    "## Campaigns with goal"
   ]
  },
  {
   "cell_type": "code",
   "execution_count": 6,
   "metadata": {},
   "outputs": [
    {
     "name": "stdout",
     "output_type": "stream",
     "text": [
      "2049247\n"
     ]
    }
   ],
   "source": [
    "df = df.query('Goal>=0')\n",
    "nrow_goal = df.shape[0]\n",
    "print(nrow_goal)"
   ]
  },
  {
   "attachments": {},
   "cell_type": "markdown",
   "metadata": {},
   "source": [
    "## Sample in US"
   ]
  },
  {
   "cell_type": "code",
   "execution_count": 7,
   "metadata": {},
   "outputs": [
    {
     "name": "stdout",
     "output_type": "stream",
     "text": [
      "2017181\n",
      "1713367\n"
     ]
    }
   ],
   "source": [
    "df = df.query('Location!=\"Organizer\"')\n",
    "nrow_notmissingloc = df.shape[0]\n",
    "print(nrow_notmissingloc)\n",
    "\n",
    "df = df.query(\"IsInUS==True\")\n",
    "nrow_in_us = df.shape[0]\n",
    "print(nrow_in_us)"
   ]
  },
  {
   "attachments": {},
   "cell_type": "markdown",
   "metadata": {},
   "source": [
    "## Medical Campaigns"
   ]
  },
  {
   "cell_type": "code",
   "execution_count": 8,
   "metadata": {},
   "outputs": [
    {
     "name": "stdout",
     "output_type": "stream",
     "text": [
      "504276\n"
     ]
    }
   ],
   "source": [
    "df = df.query('Tag==\"Medical\"')\n",
    "nrow_medical = df.shape[0]\n",
    "print(nrow_medical)"
   ]
  },
  {
   "attachments": {},
   "cell_type": "markdown",
   "metadata": {},
   "source": [
    "## In English (Final sample)"
   ]
  },
  {
   "cell_type": "code",
   "execution_count": 9,
   "metadata": {},
   "outputs": [
    {
     "name": "stdout",
     "output_type": "stream",
     "text": [
      "496044\n"
     ]
    }
   ],
   "source": [
    "df = df.query('InEnglish==True')\n",
    "nrow_english = df.shape[0]\n",
    "print(nrow_english)\n",
    "\n",
    "## drop unnecessary columns\n",
    "df.drop(columns=['FullPageText'])\n",
    "\n",
    "## write out\n",
    "df.to_csv(\"GoFundMeUU/data/filtered_full_samp.csv\", line_terminator='\\n', index=False, encoding='utf-8', quoting=csv.QUOTE_ALL)"
   ]
  },
  {
   "attachments": {},
   "cell_type": "markdown",
   "metadata": {},
   "source": [
    "## Numbers for flowchart"
   ]
  },
  {
   "cell_type": "code",
   "execution_count": 10,
   "metadata": {},
   "outputs": [
    {
     "data": {
      "text/html": [
       "<div>\n",
       "<style scoped>\n",
       "    .dataframe tbody tr th:only-of-type {\n",
       "        vertical-align: middle;\n",
       "    }\n",
       "\n",
       "    .dataframe tbody tr th {\n",
       "        vertical-align: top;\n",
       "    }\n",
       "\n",
       "    .dataframe thead th {\n",
       "        text-align: right;\n",
       "    }\n",
       "</style>\n",
       "<table border=\"1\" class=\"dataframe\">\n",
       "  <thead>\n",
       "    <tr style=\"text-align: right;\">\n",
       "      <th></th>\n",
       "      <th>Criterion</th>\n",
       "      <th>Number of Campaigns</th>\n",
       "    </tr>\n",
       "  </thead>\n",
       "  <tbody>\n",
       "    <tr>\n",
       "      <th>0</th>\n",
       "      <td>All</td>\n",
       "      <td>2212591</td>\n",
       "    </tr>\n",
       "    <tr>\n",
       "      <th>1</th>\n",
       "      <td>Without Duplicates</td>\n",
       "      <td>2208418</td>\n",
       "    </tr>\n",
       "    <tr>\n",
       "      <th>2</th>\n",
       "      <td>Successful Scrape</td>\n",
       "      <td>2208418</td>\n",
       "    </tr>\n",
       "    <tr>\n",
       "      <th>3</th>\n",
       "      <td>Active</td>\n",
       "      <td>2067040</td>\n",
       "    </tr>\n",
       "    <tr>\n",
       "      <th>4</th>\n",
       "      <td>Active In US</td>\n",
       "      <td>1713367</td>\n",
       "    </tr>\n",
       "    <tr>\n",
       "      <th>5</th>\n",
       "      <td>Active US Medical Campaigns</td>\n",
       "      <td>504276</td>\n",
       "    </tr>\n",
       "    <tr>\n",
       "      <th>6</th>\n",
       "      <td>Active US Medical Campaigns In English</td>\n",
       "      <td>496044</td>\n",
       "    </tr>\n",
       "  </tbody>\n",
       "</table>\n",
       "</div>"
      ],
      "text/plain": [
       "                                Criterion  Number of Campaigns\n",
       "0                                     All              2212591\n",
       "1                      Without Duplicates              2208418\n",
       "2                       Successful Scrape              2208418\n",
       "3                                  Active              2067040\n",
       "4                            Active In US              1713367\n",
       "5             Active US Medical Campaigns               504276\n",
       "6  Active US Medical Campaigns In English               496044"
      ]
     },
     "metadata": {},
     "output_type": "display_data"
    }
   ],
   "source": [
    "flow = pd.DataFrame(\n",
    "    {'Criterion': ['All', 'Without Duplicates', 'Successful Scrape', 'Active', 'Active In US', 'Active US Medical Campaigns', 'Active US Medical Campaigns In English'],\n",
    "     'Number of Campaigns': [nrow_orig, nrow_dedup, nrow_success, nrow_active, nrow_in_us, nrow_medical, nrow_english]}\n",
    ")\n",
    "display(flow)"
   ]
  }
 ],
 "metadata": {
  "kernelspec": {
   "display_name": "Python 3.10.4 ('c3env': venv)",
   "language": "python",
   "name": "python3"
  },
  "language_info": {
   "codemirror_mode": {
    "name": "ipython",
    "version": 3
   },
   "file_extension": ".py",
   "mimetype": "text/x-python",
   "name": "python",
   "nbconvert_exporter": "python",
   "pygments_lexer": "ipython3",
   "version": "3.10.4"
  },
  "orig_nbformat": 4,
  "vscode": {
   "interpreter": {
    "hash": "0f3cfc70d010f2c42d44890e6e44232a49f7d143546661f52133f50853d1285e"
   }
  }
 },
 "nbformat": 4,
 "nbformat_minor": 2
}
