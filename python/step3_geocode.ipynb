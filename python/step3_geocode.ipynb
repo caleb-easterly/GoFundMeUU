{
 "cells": [
  {
   "attachments": {},
   "cell_type": "markdown",
   "metadata": {},
   "source": [
    "## Geocoding\n",
    "### Author: Caleb Easterly"
   ]
  },
  {
   "cell_type": "code",
   "execution_count": 76,
   "metadata": {},
   "outputs": [],
   "source": [
    "import os\n",
    "import pandas as pd\n",
    "import re\n",
    "import csv\n",
    "\n",
    "# change directory\n",
    "os.chdir(\"C:\\\\Users\\\\caleb\\\\OneDrive - University of North Carolina at Chapel Hill\\\\Documents\\\\Projects\\\\Cancer care crowdfunding\")\n",
    "\n",
    "analytic_file = pd.read_csv(\"GoFundMeUU/data/analytic_file.csv\",\n",
    "    lineterminator='\\n', encoding='utf-8', index_col=\"URL\", low_memory=False)"
   ]
  },
  {
   "attachments": {},
   "cell_type": "markdown",
   "metadata": {},
   "source": [
    "Get deduplicated list of locations."
   ]
  },
  {
   "cell_type": "code",
   "execution_count": 77,
   "metadata": {},
   "outputs": [],
   "source": [
    "locations = analytic_file[\"Location\"]\n",
    "locations.reset_index(drop=True, inplace=True)\n",
    "locations.drop_duplicates(inplace=True)"
   ]
  },
  {
   "attachments": {},
   "cell_type": "markdown",
   "metadata": {},
   "source": [
    "Set up Google Maps API"
   ]
  },
  {
   "cell_type": "code",
   "execution_count": 78,
   "metadata": {},
   "outputs": [],
   "source": [
    "import googlemaps\n",
    "# key stored in untracked file\n",
    "with open(\"key.txt\") as k:\n",
    "    api_key = k.readline().strip()\n",
    "gmaps = googlemaps.Client(key=api_key)"
   ]
  },
  {
   "attachments": {},
   "cell_type": "markdown",
   "metadata": {},
   "source": [
    "Geocode to get county, state, and zip code if available."
   ]
  },
  {
   "cell_type": "code",
   "execution_count": 82,
   "metadata": {},
   "outputs": [],
   "source": [
    "# dataset to hold results\n",
    "geocoded = pd.DataFrame(columns=['OrigLocation', 'County', 'State', 'Country', 'PostalCode', 'Error'])\n",
    "geocoded.OrigLocation = locations\n",
    "\n",
    "for ind in geocoded.index:\n",
    "    orig_loc = geocoded.loc[ind, \"OrigLocation\"]\n",
    "\n",
    "    # api call\n",
    "    apireturn = gmaps.geocode(orig_loc)\n",
    "    if len(apireturn) == 0:\n",
    "        # called api and got error\n",
    "        geocoded.loc[ind, 'Error'] = 1\n",
    "        continue\n",
    "    # extract county and state\n",
    "    acmp = apireturn[0]['address_components']\n",
    "    for comp in acmp:\n",
    "        if 'administrative_area_level_1' in comp['types']:\n",
    "            state = comp['long_name']\n",
    "        if 'administrative_area_level_2' in comp['types']:\n",
    "            county = comp['long_name']\n",
    "        if 'postal_code' in comp['types']:\n",
    "            zip = comp['long_name']\n",
    "        if 'country' in comp['types']:\n",
    "            country = comp['long_name']\n",
    "    # put in dataset\n",
    "    geocoded.loc[ind, 'County'] = county\n",
    "    geocoded.loc[ind, 'State'] = state\n",
    "    geocoded.loc[ind, 'Country'] = country\n",
    "    geocoded.loc[ind, 'PostalCode'] = zip\n",
    "    # clear out variables\n",
    "    county = ''\n",
    "    state = ''\n",
    "    zip = ''\n",
    "    country = ''"
   ]
  },
  {
   "attachments": {},
   "cell_type": "markdown",
   "metadata": {},
   "source": [
    "Write out coded data to file."
   ]
  },
  {
   "cell_type": "code",
   "execution_count": 80,
   "metadata": {},
   "outputs": [],
   "source": [
    "geocoded.to_csv(\"GoFundMeUU/data/geocodes.csv\",\n",
    "    line_terminator='\\n', index=False, encoding='utf-8', quoting=csv.QUOTE_ALL)"
   ]
  }
 ],
 "metadata": {
  "kernelspec": {
   "display_name": "c3env",
   "language": "python",
   "name": "python3"
  },
  "language_info": {
   "codemirror_mode": {
    "name": "ipython",
    "version": 3
   },
   "file_extension": ".py",
   "mimetype": "text/x-python",
   "name": "python",
   "nbconvert_exporter": "python",
   "pygments_lexer": "ipython3",
   "version": "3.10.4"
  },
  "orig_nbformat": 4,
  "vscode": {
   "interpreter": {
    "hash": "0f3cfc70d010f2c42d44890e6e44232a49f7d143546661f52133f50853d1285e"
   }
  }
 },
 "nbformat": 4,
 "nbformat_minor": 2
}
