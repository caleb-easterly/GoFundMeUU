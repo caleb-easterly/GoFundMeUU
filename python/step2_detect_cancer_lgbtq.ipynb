{
 "cells": [
  {
   "attachments": {},
   "cell_type": "markdown",
   "metadata": {},
   "source": [
    "# Step 2: Detection of cancer and LGBTQ+ campaigns in GFM data\n",
    "## Author: Caleb Easterly"
   ]
  },
  {
   "cell_type": "code",
   "execution_count": 1,
   "metadata": {},
   "outputs": [],
   "source": [
    "import os\n",
    "import pandas as pd\n",
    "import re\n",
    "import csv\n",
    "\n",
    "# change directory\n",
    "os.chdir(\"C:\\\\Users\\\\caleb\\\\OneDrive - University of North Carolina at Chapel Hill\\\\Documents\\\\Projects\\\\Cancer care crowdfunding\")\n",
    "\n",
    "medcamp = pd.read_csv(\"GoFundMeUU/data/filtered_full_samp.csv\",\n",
    "    lineterminator='\\n', encoding='utf-8', index_col=\"URL\")\n",
    "\n",
    "# for testing\n",
    "# medcamp = medcamp.sample(frac=0.05, replace=True, random_state=1498)\n",
    "\n",
    "# combine title and description (look in both)\n",
    "medcamp[\"alltext\"] = medcamp.Title + ' ' + medcamp.Description\n",
    "medcamp.alltext = medcamp.alltext.str.lower()\n",
    "\n",
    "# function to detect a specific term\n",
    "def detect_term(term, df, prefix, textcol='alltext'):\n",
    "    term_as_word = ''.join(['\\\\b', term, '\\\\b'])\n",
    "    term_clean_for_name = re.sub('[^0-9A-Za-z]', '_', term.strip().lower())\n",
    "    term_as_column_name = prefix + term_clean_for_name\n",
    "    outser = pd.DataFrame({term_as_column_name: df[textcol].str.contains(term_as_word, regex=True, case=False)})\n",
    "    return outser\n",
    "\n",
    "# get terms from text file\n",
    "def get_terms(termpath):\n",
    "    with open(termpath, 'r') as tfile:\n",
    "        terms = []\n",
    "        for line in tfile.readlines():\n",
    "            line = line.strip().lower()\n",
    "            if (line[0] != \"#\") & (line != \"\"):\n",
    "                terms.append(line)\n",
    "    return terms"
   ]
  },
  {
   "attachments": {},
   "cell_type": "markdown",
   "metadata": {},
   "source": [
    "## Cancer Campaign Identification"
   ]
  },
  {
   "cell_type": "code",
   "execution_count": 2,
   "metadata": {},
   "outputs": [
    {
     "name": "stdout",
     "output_type": "stream",
     "text": [
      "['malignan.*', 'cancer', 'carcinoma', 'radiation therap.*', 'radiotherap.*', 'immune therap.*', 'immunotherap.*', 'chemo', 'chemotherap.*', 'mastectomy', 'lumpectomy', 'lukemia', 'leukemia', 'luekemia', 'lymphoma', 'melanoma', 'glioblastoma', 'myeloma', 'myloma', 'neuroblastoma', 'neurblastoma', 'neruoblastoma', 'nuroblastoma', 'nueroblastoma', 'astrocytoma', 'renal cell', 'squamous cell', 'medulloblastoma', 'adenocarcinoma', 'retinoblastoma', 'ductal carcinoma', 'neuroendocrine tumor', 'histiocytosis', 'carcinoid', 'germ cell tumor', 'desmoplastic', 'wilms tumor', \"wilm\\\\'s tumor\", 'seminoma', 'ependymoma', 'thymoma', 'langerhans', 'ductile carcinoma', 'oligodendroglioma', 'clear cell', 'non-hodgkins lymphoma', 'non hodgkins lymphoma', 'nonhodgkins lymphoma', 'rhadbdomyosarcoma', 'rhabdomyosaroma']\n"
     ]
    }
   ],
   "source": [
    "cancer_terms_fpath = \"GoFundMeUU/termlists/final_cancer.txt\"\n",
    "cterms = get_terms('GoFundMeUU/termlists/final_cancer.txt')\n",
    "print(cterms)\n",
    "cdf_list = [detect_term(t, medcamp, prefix='c_') for t in cterms]\n",
    "cdf = pd.concat(cdf_list, axis=1, ignore_index=False)\n",
    "\n",
    "# summary variables - number of term hits and any term hits\n",
    "cdf[\"c_total\"] = cdf.sum(axis=1)\n",
    "cdf[\"c_any\"] = cdf.c_total > 0\n",
    "\n",
    "# join back to main dataset\n",
    "medcamp = medcamp.join(cdf)"
   ]
  },
  {
   "attachments": {},
   "cell_type": "markdown",
   "metadata": {},
   "source": [
    "## LGBTQ+ Campaign Identification"
   ]
  },
  {
   "cell_type": "code",
   "execution_count": 3,
   "metadata": {},
   "outputs": [
    {
     "name": "stdout",
     "output_type": "stream",
     "text": [
      "['ace', 'aromantic', 'asexual', 'bisexual', 'demi', 'dyke', 'fag', 'gay', 'lesbian', 'lgbt.*', 'pansexual', 'poly', 'queer', 'same\\\\-gender loving', 'her girlfriend', 'her wife', 'his boyfriend', 'his husband', '2 spirit', '2\\\\-spirit', 'afab', 'agender', 'amab', 'assigned female at birth', 'assigned male at birth', 'bigender', 'drag p.*', 'drag k.*', 'drag q.*', 'enby', 'femme', 'ftm', 'gender aff.*', 'gender confirmation', 'gender dysphoria', 'gender euphoria', 'gender f.*', 'gender non.*', 'gender queer', 'gender transition', 'gender\\\\-aff.*', 'genderf.*', 'genderqueer', 'gnc', 'intersex', 'masc.*', 'mtf', 'mx\\\\.', 'nb', 'non-binary', 'nonbinary', 'omnigender', 'qtpoc', 'trans', 'transgender', 'transsexual', 'two spirit', 'two\\\\-spirit', 'ey\\\\/.*', 'ne\\\\/.*', 'they\\\\/.*', 've\\\\/.*', 'xe\\\\/.*', 'zie\\\\/.*', 'bottom surg.*', 'phalloplasty', 'sex reassignment', 'top surgery', 'vaginoplasty', 'fruity', 'sexual and gender minority', 'sgm']\n"
     ]
    }
   ],
   "source": [
    "# repeat for lgbtq+\n",
    "lgbtq_terms_fpath = \"GoFundMeUU/termlists/final_lgbtq.txt\"\n",
    "qterms = get_terms('GoFundMeUU/termlists/final_lgbtq.txt')\n",
    "print(qterms)\n",
    "\n",
    "# test potentially trickier terms to make sure this works\n",
    "testdf = pd.DataFrame(\n",
    "    {'alltext': ['drag king', 'drag on', 'they/them', 'they', 'he/him', '2 spirit']}\n",
    ")\n",
    "test_results = pd.concat([detect_term(t, testdf, prefix='q_') for t in qterms], axis=1, ignore_index=False)\n",
    "all([test_results.q_drag_k__[0] == True,\n",
    "    test_results.q_drag_k__[1] == False,\n",
    "    test_results.q_they____[2] == True,\n",
    "    test_results.q_they____[3] == False,\n",
    "    test_results.q_they____[4] == False,\n",
    "    test_results.q_2_spirit[5] == True])\n",
    "\n",
    "# now do detection on whole dataset\n",
    "qdf_list = [detect_term(t, medcamp, prefix='q_') for t in qterms]\n",
    "qdf = pd.concat(qdf_list, axis=1, ignore_index=False)\n",
    "\n",
    "# overall summary\n",
    "qdf[\"q_total\"] = qdf.sum(axis=1)\n",
    "qdf[\"q_any\"] = qdf.q_total > 0\n",
    "\n",
    "# merge back to main file\n",
    "medcamp = medcamp.join(qdf)"
   ]
  },
  {
   "attachments": {},
   "cell_type": "markdown",
   "metadata": {},
   "source": [
    "## Write out datasets"
   ]
  },
  {
   "cell_type": "code",
   "execution_count": 4,
   "metadata": {},
   "outputs": [],
   "source": [
    "# cleanup - drop the alltext column\n",
    "medcamp = medcamp.drop(columns=['alltext'])\n",
    "# test LGBTQ dataset for eyeballing success of terms\n",
    "qmed = medcamp.query('q_any')\n",
    "qmed.to_csv(\"GoFundMeUU/data/lgbtq_med_campaigns.csv\",\n",
    "    line_terminator='\\n', index=True, encoding='utf-8', quoting=csv.QUOTE_ALL)\n",
    "\n",
    "## write out dataset with cancer/lgbtq detection\n",
    "medcamp.to_csv(\"GoFundMeUU/data/analytic_file.csv\",\n",
    "    line_terminator='\\n', index=True, encoding='utf-8', quoting=csv.QUOTE_ALL)"
   ]
  }
 ],
 "metadata": {
  "kernelspec": {
   "display_name": "Python 3.10.4 ('c3env': venv)",
   "language": "python",
   "name": "python3"
  },
  "language_info": {
   "codemirror_mode": {
    "name": "ipython",
    "version": 3
   },
   "file_extension": ".py",
   "mimetype": "text/x-python",
   "name": "python",
   "nbconvert_exporter": "python",
   "pygments_lexer": "ipython3",
   "version": "3.10.4"
  },
  "orig_nbformat": 4,
  "vscode": {
   "interpreter": {
    "hash": "0f3cfc70d010f2c42d44890e6e44232a49f7d143546661f52133f50853d1285e"
   }
  }
 },
 "nbformat": 4,
 "nbformat_minor": 2
}
